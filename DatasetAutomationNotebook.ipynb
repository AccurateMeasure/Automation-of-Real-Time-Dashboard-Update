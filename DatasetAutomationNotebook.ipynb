{
 "cells": [
  {
   "cell_type": "code",
   "execution_count": null,
   "id": "f1184dff",
   "metadata": {},
   "outputs": [],
   "source": [
    "import smtplib\n",
    "from email.mime.text import MIMEText\n",
    "from email.mime.multipart import MIMEMultipart\n",
    "from msal import ConfidentialClientApplication\n",
    "from pyspark.sql import SparkSession\n",
    "import requests\n",
    "\n",
    "# Initialize Spark session (if needed)\n",
    "spark = SparkSession.builder.appName(\"PowerBI Refresh\").getOrCreate()\n",
    "\n",
    "# Azure AD and Power BI details (replace with your values)\n",
    "tenant_id = \"***YourtenantID***\"\n",
    "client_id = \"***YourClientID***\"\n",
    "client_secret = \"***YourClientSecret***\"\n",
    "workspace_id = \"***YourWorkspaceID***\"\n",
    "dataset_id = \"***YourDatasetID***\"\n",
    "\n",
    "# MSAL configuration\n",
    "authority = f\"https://login.microsoftonline.com/{tenant_id}\"\n",
    "scope = [\"https://analysis.windows.net/powerbi/api/.default\"]\n",
    "\n",
    "# Gmail SMTP email settings\n",
    "smtp_server = \"smtp.gmail.com\"\n",
    "smtp_port = 587\n",
    "smtp_user = \"***@gmail.com***\"  # Your email address\n",
    "smtp_password = \"***YourApplicationPassword***\"  # App Password\n",
    "recipient_email = \"***YourRecipientEmail***\"  # Recipient's email address\n",
    "\n",
    "# Function to send email notification\n",
    "def send_email(subject, body):\n",
    "    msg = MIMEMultipart()\n",
    "    msg['From'] = smtp_user\n",
    "    msg['To'] = recipient_email\n",
    "    msg['Subject'] = f\"Data Refresh Alert - {subject}\"\n",
    "    msg.attach(MIMEText(body, 'plain'))\n",
    "\n",
    "    try:\n",
    "        with smtplib.SMTP(smtp_server, smtp_port) as server:\n",
    "            server.starttls()  # Start TLS encryption\n",
    "            server.login(smtp_user, smtp_password)  # Login with email credentials\n",
    "            server.sendmail(smtp_user, recipient_email, msg.as_string())\n",
    "            print(\"Email sent successfully\")\n",
    "    except Exception as e:\n",
    "        print(f\"Failed to send email: {e}\")\n",
    "\n",
    "# Function to get the access token using MSAL\n",
    "def get_access_token():\n",
    "    app = ConfidentialClientApplication(\n",
    "        client_id,\n",
    "        authority=authority,\n",
    "        client_credential=client_secret\n",
    "    )\n",
    "    result = app.acquire_token_for_client(scopes=scope)\n",
    "    if \"access_token\" in result:\n",
    "        return result['access_token']\n",
    "    else:\n",
    "        raise Exception(\"Failed to obtain access token\")\n",
    "\n",
    "# Function to trigger dataset refresh\n",
    "def refresh_dataset(workspace_id, dataset_id, access_token):\n",
    "    headers = {\n",
    "        'Authorization': f'Bearer {access_token}',\n",
    "        'Content-Type': 'application/json'\n",
    "    }\n",
    "    dataset_refresh_url = f\"https://api.powerbi.com/v1.0/myorg/groups/{workspace_id}/datasets/{dataset_id}/refreshes\"\n",
    "    \n",
    "    refresh_response = requests.post(dataset_refresh_url, headers=headers)\n",
    "    \n",
    "    if refresh_response.status_code == 202:\n",
    "        print(\"Dataset refresh triggered successfully\")\n",
    "        send_email(\"Power BI Dataset Refresh Successful\", \"The dataset refresh was triggered successfully.\")\n",
    "    else:\n",
    "        print(f\"Failed to trigger refresh: {refresh_response.status_code} - {refresh_response.text}\")\n",
    "        send_email(\"Power BI Dataset Refresh Failed\", f\"Failed to trigger dataset refresh. Error: {refresh_response.status_code} - {refresh_response.text}\")\n",
    "\n",
    "# Execute the refresh\n",
    "try:\n",
    "    access_token = get_access_token()\n",
    "    refresh_dataset(workspace_id, dataset_id, access_token)\n",
    "except Exception as e:\n",
    "    print(f\"Error: {e}\")\n",
    "    send_email(\"Power BI Dataset Refresh Error\", f\"An error occurred while refreshing the dataset: {e}\")\n",
    "\n",
    "\n",
    "\n",
    "spark.stop()\n"
   ]
  },
  {
   "cell_type": "code",
   "execution_count": 1,
   "id": "d16e693e",
   "metadata": {},
   "outputs": [
    {
     "name": "stdout",
     "output_type": "stream",
     "text": [
      "C:\\Users\\johns\n"
     ]
    }
   ],
   "source": [
    "import os \n",
    "\n",
    "print(os.getcwd())"
   ]
  },
  {
   "cell_type": "code",
   "execution_count": null,
   "id": "f97ad70e",
   "metadata": {},
   "outputs": [],
   "source": []
  }
 ],
 "metadata": {
  "kernelspec": {
   "display_name": "spark-env",
   "language": "python",
   "name": "spark-env"
  },
  "language_info": {
   "codemirror_mode": {
    "name": "ipython",
    "version": 3
   },
   "file_extension": ".py",
   "mimetype": "text/x-python",
   "name": "python",
   "nbconvert_exporter": "python",
   "pygments_lexer": "ipython3",
   "version": "3.12.7"
  }
 },
 "nbformat": 4,
 "nbformat_minor": 5
}
